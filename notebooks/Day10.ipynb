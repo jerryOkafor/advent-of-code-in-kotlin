{
 "cells": [
  {
   "cell_type": "markdown",
   "source": [
    "## Day 10: Pipe Maze\n",
    "\n",
    "# Part 1"
   ],
   "metadata": {
    "collapsed": false
   }
  },
  {
   "cell_type": "code",
   "execution_count": 1,
   "outputs": [
    {
     "data": {
      "text/plain": "7005"
     },
     "execution_count": 1,
     "metadata": {},
     "output_type": "execute_result"
    }
   ],
   "source": [
    "import utils.Direction.NORTH\n",
    "import utils.Direction.SOUTH\n",
    "import utils.Direction.EAST\n",
    "import utils.Direction.WEST\n",
    "import utils.Point\n",
    "\n",
    "val pipes = mutableMapOf(\n",
    "    'S' to listOf(NORTH, EAST, SOUTH, WEST),\n",
    "    '|' to listOf(SOUTH, NORTH),\n",
    "    '-' to listOf(WEST, EAST),\n",
    "    'L' to listOf(NORTH, EAST),\n",
    "    'J' to listOf(NORTH, WEST),\n",
    "    '7' to listOf(SOUTH, WEST),\n",
    "    'F' to listOf(SOUTH, EAST)\n",
    ")\n",
    "val input = readInputForNotebook(\"Day10\")\n",
    "\n",
    "val grid = mutableMapOf<Point, Char>()\n",
    "input.forEachIndexed { y, row ->\n",
    "    row.forEachIndexed { x, c ->\n",
    "        grid[Point(x, y)] = c\n",
    "    }\n",
    "}\n",
    "\n",
    "val startpoint = grid.entries.first { it.value == 'S' }.key\n",
    "val unexplored = mutableListOf(startpoint to 0)\n",
    "val explored = mutableMapOf(startpoint to 0)\n",
    "\n",
    "while (unexplored.isNotEmpty()) {\n",
    "    val (current, distance) = unexplored.removeFirst()\n",
    "    explored[current] = distance\n",
    "    pipes[grid[current]]!!.forEach { direction ->\n",
    "        val point = current.move(direction)\n",
    "        if (point !in explored.keys && point in grid.keys && direction.reverse() in pipes[grid[point]]!!) {\n",
    "            unexplored += point to (distance + 1)\n",
    "        }\n",
    "    }\n",
    "}\n",
    "\n",
    "explored.values.max()\n"
   ],
   "metadata": {
    "collapsed": false,
    "ExecuteTime": {
     "end_time": "2023-12-11T04:58:47.811178Z",
     "start_time": "2023-12-11T04:58:46.578600Z"
    }
   }
  },
  {
   "cell_type": "markdown",
   "source": [
    "## Part 2"
   ],
   "metadata": {
    "collapsed": false
   }
  },
  {
   "cell_type": "code",
   "execution_count": 2,
   "outputs": [
    {
     "data": {
      "text/plain": "417"
     },
     "execution_count": 2,
     "metadata": {},
     "output_type": "execute_result"
    }
   ],
   "source": [
    "val start = grid.entries.first { it.value == 'S' }.key\n",
    "val unexplored = mutableListOf(start)\n",
    "val explored = mutableSetOf<Point>()\n",
    "while (unexplored.isNotEmpty()) {\n",
    "    val current = unexplored.removeFirst()\n",
    "    explored += current\n",
    "    pipes[grid[current]]!!.forEach { direction ->\n",
    "        val point = current.move(direction)\n",
    "        if (point !in explored) {\n",
    "            val pipe = grid[point]\n",
    "            if (pipe != null && direction.reverse() in pipes[pipe]!!) unexplored += point\n",
    "        }\n",
    "    }\n",
    "}\n",
    "\n",
    "val expandedGrid = mutableMapOf<Point, Char>()\n",
    "grid.forEach { (point, char) ->\n",
    "    val expandedPoint = Point(point.x * 3, point.y * 3)\n",
    "    expandedGrid[expandedPoint] = if (char != '.' && point in explored) '#' else '.'\n",
    "    expandedPoint.getAdjacent().forEach { expandedGrid[it] = '.' }\n",
    "    if (point in explored) pipes[char]!!.forEach { expandedGrid[expandedPoint.move(it)] = '#' }\n",
    "}\n",
    "\n",
    "val toFlood = mutableListOf(Point.ORIGIN)\n",
    "while (toFlood.isNotEmpty()) {\n",
    "    val current = toFlood.removeFirst()\n",
    "    expandedGrid[current] = '='\n",
    "    toFlood += current.getAdjacentSides().filter { expandedGrid[it] == '.' && it !in toFlood }\n",
    "}\n",
    "\n",
    "grid.keys.count { expandedGrid[Point(it.x * 3, it.y * 3)] == '.' }"
   ],
   "metadata": {
    "collapsed": false,
    "ExecuteTime": {
     "end_time": "2023-12-11T04:58:52.980107Z",
     "start_time": "2023-12-11T04:58:51.941895Z"
    }
   }
  },
  {
   "cell_type": "code",
   "execution_count": null,
   "outputs": [],
   "source": [],
   "metadata": {
    "collapsed": false
   }
  }
 ],
 "metadata": {
  "kernelspec": {
   "display_name": "Kotlin",
   "language": "kotlin",
   "name": "kotlin"
  },
  "language_info": {
   "name": "kotlin",
   "version": "1.9.0",
   "mimetype": "text/x-kotlin",
   "file_extension": ".kt",
   "pygments_lexer": "kotlin",
   "codemirror_mode": "text/x-kotlin",
   "nbconvert_exporter": ""
  },
  "ktnbPluginMetadata": {
   "projectDependencies": true
  }
 },
 "nbformat": 4,
 "nbformat_minor": 0
}
